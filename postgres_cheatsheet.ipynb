{
 "cells": [
  {
   "cell_type": "markdown",
   "id": "26b63afd",
   "metadata": {},
   "source": [
    "# PostgreSQL 常用命令速查（Jupyter Notebook）\n",
    "\n",
    "本 Notebook 收集了 PostgreSQL 数据库在 **全生命周期** 中的常用 SQL 命令，\n",
    "你可以在 Jupyter 环境中直接运行和修改来学习。\n",
    "\n",
    "---\n",
    "\n",
    "## 目录\n",
    "1. 数据库操作\n",
    "2. 表操作\n",
    "3. 数据插入与更新\n",
    "4. 查询（SELECT, WHERE, ORDER BY, LIMIT）\n",
    "5. 索引与约束\n",
    "6. 用户与权限管理\n",
    "7. 备份与恢复\n"
   ]
  },
  {
   "cell_type": "markdown",
   "id": "52aa3081",
   "metadata": {},
   "source": [
    "## 1. 数据库操作\n",
    "\n",
    "```sql\n",
    "-- 创建数据库\n",
    "CREATE DATABASE mydb;\n",
    "\n",
    "-- 删除数据库\n",
    "DROP DATABASE mydb;\n",
    "\n",
    "-- 切换数据库（在 psql 命令行中使用）\n",
    "\\c mydb;\n",
    "\n",
    "-- 查看所有数据库\n",
    "\\l;\n",
    "```\n"
   ]
  },
  {
   "cell_type": "markdown",
   "id": "14da4133",
   "metadata": {},
   "source": [
    "## 2. 表操作\n",
    "\n",
    "```sql\n",
    "-- 创建表\n",
    "CREATE TABLE students (\n",
    "    id SERIAL PRIMARY KEY,\n",
    "    name VARCHAR(100) NOT NULL,\n",
    "    age INT,\n",
    "    enrolled_date DATE DEFAULT CURRENT_DATE\n",
    ");\n",
    "\n",
    "-- 查看所有表\n",
    "\\dt;\n",
    "\n",
    "-- 删除表\n",
    "DROP TABLE students;\n",
    "\n",
    "-- 修改表：添加新列\n",
    "ALTER TABLE students ADD COLUMN email VARCHAR(200);\n",
    "```\n"
   ]
  },
  {
   "cell_type": "markdown",
   "id": "a42cdcd4",
   "metadata": {},
   "source": [
    "## 3. 数据插入与更新\n",
    "\n",
    "```sql\n",
    "-- 插入数据\n",
    "INSERT INTO students (name, age) VALUES ('Alice', 20);\n",
    "\n",
    "-- 批量插入\n",
    "INSERT INTO students (name, age) VALUES \n",
    "('Bob', 22),\n",
    "('Charlie', 23);\n",
    "\n",
    "-- 更新数据\n",
    "UPDATE students SET age = 21 WHERE name = 'Alice';\n",
    "\n",
    "-- 删除数据\n",
    "DELETE FROM students WHERE name = 'Bob';\n",
    "```\n"
   ]
  },
  {
   "cell_type": "markdown",
   "id": "7cb4bbdf",
   "metadata": {},
   "source": [
    "## 4. 查询操作\n",
    "\n",
    "```sql\n",
    "-- 查询所有数据\n",
    "SELECT * FROM students;\n",
    "\n",
    "-- 查询特定列\n",
    "SELECT name, age FROM students;\n",
    "\n",
    "-- 条件查询\n",
    "SELECT * FROM students WHERE age > 21;\n",
    "\n",
    "-- 排序\n",
    "SELECT * FROM students ORDER BY age DESC;\n",
    "\n",
    "-- 限制返回数量\n",
    "SELECT * FROM students LIMIT 5;\n",
    "\n",
    "-- 聚合函数\n",
    "SELECT AVG(age), COUNT(*) FROM students;\n",
    "\n",
    "-- 分组\n",
    "SELECT age, COUNT(*) FROM students GROUP BY age;\n",
    "```\n"
   ]
  },
  {
   "cell_type": "markdown",
   "id": "c81e2165",
   "metadata": {},
   "source": [
    "## 5. 索引与约束\n",
    "\n",
    "```sql\n",
    "-- 创建索引\n",
    "CREATE INDEX idx_name ON students(name);\n",
    "\n",
    "-- 唯一约束\n",
    "ALTER TABLE students ADD CONSTRAINT unique_email UNIQUE (email);\n",
    "\n",
    "-- 主键约束（已在建表时定义）\n",
    "-- FOREIGN KEY 示例\n",
    "CREATE TABLE courses (\n",
    "    id SERIAL PRIMARY KEY,\n",
    "    title VARCHAR(100),\n",
    "    student_id INT REFERENCES students(id)\n",
    ");\n",
    "```\n"
   ]
  },
  {
   "cell_type": "markdown",
   "id": "1c205f7f",
   "metadata": {},
   "source": [
    "## 6. 用户与权限管理\n",
    "\n",
    "```sql\n",
    "-- 创建用户\n",
    "CREATE USER myuser WITH PASSWORD 'mypassword';\n",
    "\n",
    "-- 授予权限\n",
    "GRANT ALL PRIVILEGES ON DATABASE mydb TO myuser;\n",
    "\n",
    "-- 撤销权限\n",
    "REVOKE ALL PRIVILEGES ON DATABASE mydb FROM myuser;\n",
    "```\n"
   ]
  },
  {
   "cell_type": "markdown",
   "id": "d0af5134",
   "metadata": {},
   "source": [
    "## 7. 备份与恢复\n",
    "\n",
    "```bash\n",
    "# 使用 pg_dump 导出数据库\n",
    "pg_dump -U postgres -d mydb > mydb_backup.sql\n",
    "\n",
    "# 使用 psql 恢复数据库\n",
    "psql -U postgres -d mydb < mydb_backup.sql\n",
    "```\n"
   ]
  }
 ],
 "metadata": {
  "language_info": {
   "name": "python"
  }
 },
 "nbformat": 4,
 "nbformat_minor": 5
}
